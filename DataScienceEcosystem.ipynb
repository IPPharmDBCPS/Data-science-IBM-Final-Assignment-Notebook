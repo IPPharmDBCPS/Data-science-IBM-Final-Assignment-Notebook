{
 "cells": [
  {
   "cell_type": "markdown",
   "id": "651f7b1a-2b9f-4322-889d-861e7fd990da",
   "metadata": {},
   "source": [
    "#Data Science Tools and Ecosystem"
   ]
  },
  {
   "cell_type": "markdown",
   "id": "3fae1a6d-ae6c-4ebb-8b2c-e0eeb83784fa",
   "metadata": {},
   "source": [
    "In this notebook, Data Science Tools and Ecosystem are summarized."
   ]
  },
  {
   "cell_type": "markdown",
   "id": "23c12b60-3bb0-4638-bdb2-9560075c4d7f",
   "metadata": {},
   "source": [
    "**Objectives:**"
   ]
  },
  {
   "cell_type": "markdown",
   "id": "4a260835-f763-42d3-b0fc-f52fa563c3b8",
   "metadata": {},
   "source": [
    "- List popular languages for Data Science\n",
    "- List commonly used libraries used by Data Scientists\n",
    "- Provide an example of evaluating an arithmetic experssion in Pyghon"
   ]
  },
  {
   "cell_type": "markdown",
   "id": "9c3d25db-d069-408e-9ec5-e7d863a19b3d",
   "metadata": {},
   "source": [
    "Some of the popular languages that Data Scientists use are:"
   ]
  },
  {
   "cell_type": "markdown",
   "id": "b6a0d6cc-a8f6-45c9-94d2-f89646e550da",
   "metadata": {},
   "source": [
    "1. R\n",
    "2. Python\n",
    "3. Julia"
   ]
  },
  {
   "cell_type": "markdown",
   "id": "b6d2a1da-ea1f-49d1-bc02-0718186489c9",
   "metadata": {},
   "source": [
    "Some of the commonly used libraries used by Data Scientists include:"
   ]
  },
  {
   "cell_type": "markdown",
   "id": "6622067e-652b-4602-9610-c5208a44d231",
   "metadata": {},
   "source": [
    "1. ggplot2\n",
    "2. NumPy\n",
    "3. Pandas"
   ]
  },
  {
   "cell_type": "markdown",
   "id": "56ceae12-6fd9-4c44-882c-2ae0262cf067",
   "metadata": {},
   "source": [
    "|Data Science Tools|\n",
    "--------------------\n",
    "|Jupyter|\n",
    "|RStudio|\n",
    "|Spyder|\n"
   ]
  },
  {
   "cell_type": "markdown",
   "id": "6e119113-cdce-43f2-b29f-998138578432",
   "metadata": {},
   "source": [
    "###Below are a few examples of evaluating arithmetic expressions in Python"
   ]
  },
  {
   "cell_type": "markdown",
   "id": "0e7e8c62-ee1a-4458-945f-778706936274",
   "metadata": {},
   "source": [
    "This a simple arithmetic expression to mutiply then add integers"
   ]
  },
  {
   "cell_type": "code",
   "execution_count": 2,
   "id": "97b165d6-c6ce-47c8-b13a-0df16742c013",
   "metadata": {
    "tags": []
   },
   "outputs": [
    {
     "data": {
      "text/plain": [
       "17"
      ]
     },
     "execution_count": 2,
     "metadata": {},
     "output_type": "execute_result"
    }
   ],
   "source": [
    "(3*4)+5"
   ]
  },
  {
   "cell_type": "markdown",
   "id": "b237c204-ea85-4092-907f-63e2ce1bd883",
   "metadata": {},
   "source": [
    "This will convert 200 minutes to hours by diving by 60"
   ]
  },
  {
   "cell_type": "code",
   "execution_count": 3,
   "id": "0ee19dc5-8286-410e-8f0d-991fb2780dd1",
   "metadata": {
    "tags": []
   },
   "outputs": [
    {
     "data": {
      "text/plain": [
       "3.3333333333333335"
      ]
     },
     "execution_count": 3,
     "metadata": {},
     "output_type": "execute_result"
    }
   ],
   "source": [
    "200/60"
   ]
  },
  {
   "cell_type": "markdown",
   "id": "d5084f2a-8054-417c-b7ce-c48ea3bb87eb",
   "metadata": {},
   "source": [
    "##Author\n",
    "\n",
    "Izabela Pabian"
   ]
  },
  {
   "cell_type": "code",
   "execution_count": null,
   "id": "57cc6969-1a2c-40eb-bcf3-c355f4af93b4",
   "metadata": {},
   "outputs": [],
   "source": []
  }
 ],
 "metadata": {
  "kernelspec": {
   "display_name": "Python",
   "language": "python",
   "name": "conda-env-python-py"
  },
  "language_info": {
   "codemirror_mode": {
    "name": "ipython",
    "version": 3
   },
   "file_extension": ".py",
   "mimetype": "text/x-python",
   "name": "python",
   "nbconvert_exporter": "python",
   "pygments_lexer": "ipython3",
   "version": "3.7.12"
  }
 },
 "nbformat": 4,
 "nbformat_minor": 5
}
